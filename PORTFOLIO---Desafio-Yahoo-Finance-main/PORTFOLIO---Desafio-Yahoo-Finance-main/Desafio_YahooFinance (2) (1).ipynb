{
  "nbformat": 4,
  "nbformat_minor": 0,
  "metadata": {
    "colab": {
      "name": "Desafio - YahooFinance.ipynb",
      "provenance": [],
      "collapsed_sections": []
    },
    "kernelspec": {
      "name": "python3",
      "display_name": "Python 3"
    }
  },
  "cells": [
    {
      "cell_type": "markdown",
      "metadata": {
        "id": "pd2-ypN9unyn"
      },
      "source": [
        "Desafio Laraia Tech"
      ]
    },
    {
      "cell_type": "code",
      "metadata": {
        "id": "2w0d04HpnAqp"
      },
      "source": [
        "!pip install yfinance --upgrade --no-cache-dir"
      ],
      "execution_count": null,
      "outputs": []
    },
    {
      "cell_type": "code",
      "metadata": {
        "id": "2dyB0RtwjfRV"
      },
      "source": [
        "import pandas as pd\n",
        "import numpy as np\n",
        "import matplotlib.pyplot as plt\n",
        "import seaborn as sns\n",
        "from datetime import datetime\n",
        "import yfinance as yf\n",
        "yf.pdr_override()"
      ],
      "execution_count": 96,
      "outputs": []
    },
    {
      "cell_type": "code",
      "metadata": {
        "id": "npSvUNbHof4B"
      },
      "source": [
        "#Coletando Infos do Ticker\n",
        "ticker = str(input('Insira um Ticker: '))\n",
        "print('-----------------------------------------------')\n",
        "print('Informações da Empresa')\n",
        "filter=('longName','address1','phone','sector','industry','fullTimeEmployees','companyOfficers')\n",
        "ticker = yf.Ticker(ticker)\n",
        "ticker_info=ticker.info\n",
        "for i in filter:\n",
        "  print(i,' - ',ticker_info[i])\n",
        "print('-----------------------------------------------')\n",
        "print('Preço de fechamento e Volume dos últimos 200 dias')\n",
        "#Coletando Preço de fechamento e volume.\n",
        "hoje= date.today()\n",
        "\n",
        "hist = ticker.history(start=date.fromordinal(hoje.toordinal()-200),end=hoje,period=\"max\")\n",
        "print(hist[['Close','Volume']])\n",
        "print('-----------------------------------------------')\n",
        "#Perguntando para o usuário se deseja salvar os dados no seu google Drive\n",
        "export = str(input('Deseja fazer o upload .csv destes dados no seu google Drive? Yes/No:'))\n",
        "if export in ['Y','Yes','yes','y']:\n",
        "  hist.reset_index(level=0,inplace=True)\n",
        "  hist.drop(columns=['Open','High','Low','Dividends','Stock Splits'],inplace=True)\n",
        "  from google.colab import drive\n",
        "  drive.mount('/gdrive',force_remount=True)\n",
        "  with open('/gdrive/My Drive/Ticker_info.csv', 'w') as f:\n",
        "    hist.to_csv(f,index=False)\n",
        "    print('Salvo com sucesso no seu Google Drive')\n",
        "print('-----------------------------------------------')\n",
        "#Perguntando ao usuário se deseja visualizar o gráfico de volume\n",
        "volume_graph=str(input('Deseja visualizar o gráfico de Volume negociado? '))\n",
        "if volume_graph in ['Y','Yes','yes','y']:\n",
        "  data=pd.to_datetime(hist.index,unit='d').strftime('%d-%m-%Y')\n",
        "  plt.figure(figsize=(30,5))\n",
        "  volume = hist['Volume']/1000\n",
        "  sns.barplot(data,volume,data=hist,color='Red')\n",
        "  plt.xticks(rotation=90)\n",
        "  plt.xlabel('Data')\n",
        "  plt.ylabel('Volume de negociações/1000')\n",
        "  plt.title('Volume de negociações dos últimos 200 dias')\n",
        "  plt.show()\n",
        "print('-----------------------------------------------')\n",
        "#Perguntando ao usuário se deseja visualizar o gráfico de preços\n",
        "price_graph=str(input('Deseja visualizar o gráfico de preço das ações? '))\n",
        "if price_graph in ['Y','Yes','yes','y']:\n",
        "  plt.figure(figsize=(30,5))\n",
        "  sns.lineplot(data,hist['Close'],color='blue',data=hist)\n",
        "  plt.xticks(rotation=90)\n",
        "  plt.xlabel('Data')\n",
        "  plt.ylabel('Preço de fechamento')\n",
        "  plt.title('Evolução do preços das ações dos últimos 200 dias')\n",
        "  plt.show()\n",
        "print('-----------------------------------------------')\n",
        "print('Obrigado!')\n",
        "\n",
        "print('Feito por Pedro Andrade - pedrohenrique.as@hotmail.com')\n"
      ],
      "execution_count": null,
      "outputs": []
    }
  ]
}